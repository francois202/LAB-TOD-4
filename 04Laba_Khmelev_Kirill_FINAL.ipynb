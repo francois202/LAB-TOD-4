{
 "cells": [
  {
   "cell_type": "markdown",
   "metadata": {
    "id": "ywhE2d-Zh9Ql"
   },
   "source": [
    "# Работа с Excel"
   ]
  },
  {
   "cell_type": "markdown",
   "metadata": {
    "id": "t3vq948qh9Qn"
   },
   "source": [
    "Материалы:\n",
    "* Макрушин С.В. Лекция 7: Работа с Excel\n",
    "* https://docs.xlwings.org/en/stable/quickstart.html\n",
    "* https://nbviewer.jupyter.org/github/pybokeh/jupyter_notebooks/blob/master/xlwings/Excel_Formatting.ipynb#search_text\n"
   ]
  },
  {
   "cell_type": "markdown",
   "metadata": {
    "id": "K2nybpr_h9Qp"
   },
   "source": [
    "## Лабораторная работа 7.1"
   ]
  },
  {
   "cell_type": "markdown",
   "metadata": {
    "id": "shjzNdkkh9Qp"
   },
   "source": [
    "1. Загрузите данные из файлов `reviews_sample.csv` (__ЛР2__) и `recipes_sample.csv` (__ЛР5__) в виде `pd.DataFrame`. Обратите внимание на корректное считывание столбца(ов) с индексами. Оставьте в таблице с рецептами следующие столбцы: `id`, `name`, `minutes`, `submitted`, `description`, `n_ingredients`"
   ]
  },
  {
   "cell_type": "code",
   "execution_count": 1,
   "metadata": {
    "id": "G6rtye-Akgcs"
   },
   "outputs": [],
   "source": [
    "import pandas as pd"
   ]
  },
  {
   "cell_type": "code",
   "execution_count": 2,
   "metadata": {
    "colab": {
     "base_uri": "https://localhost:8080/",
     "height": 143
    },
    "id": "9kI0H8aBuQVz",
    "outputId": "786a1eaa-c134-49d1-d3ed-5a37f7a3b512"
   },
   "outputs": [
    {
     "data": {
      "text/html": [
       "<div>\n",
       "<style scoped>\n",
       "    .dataframe tbody tr th:only-of-type {\n",
       "        vertical-align: middle;\n",
       "    }\n",
       "\n",
       "    .dataframe tbody tr th {\n",
       "        vertical-align: top;\n",
       "    }\n",
       "\n",
       "    .dataframe thead th {\n",
       "        text-align: right;\n",
       "    }\n",
       "</style>\n",
       "<table border=\"1\" class=\"dataframe\">\n",
       "  <thead>\n",
       "    <tr style=\"text-align: right;\">\n",
       "      <th></th>\n",
       "      <th>user_id</th>\n",
       "      <th>recipe_id</th>\n",
       "      <th>date</th>\n",
       "      <th>rating</th>\n",
       "      <th>review</th>\n",
       "    </tr>\n",
       "  </thead>\n",
       "  <tbody>\n",
       "    <tr>\n",
       "      <th>370476</th>\n",
       "      <td>21752</td>\n",
       "      <td>57993</td>\n",
       "      <td>2003-05-01</td>\n",
       "      <td>5</td>\n",
       "      <td>Last week whole sides of frozen salmon fillet ...</td>\n",
       "    </tr>\n",
       "    <tr>\n",
       "      <th>624300</th>\n",
       "      <td>431813</td>\n",
       "      <td>142201</td>\n",
       "      <td>2007-09-16</td>\n",
       "      <td>5</td>\n",
       "      <td>So simple and so tasty!  I used a yellow capsi...</td>\n",
       "    </tr>\n",
       "    <tr>\n",
       "      <th>187037</th>\n",
       "      <td>400708</td>\n",
       "      <td>252013</td>\n",
       "      <td>2008-01-10</td>\n",
       "      <td>4</td>\n",
       "      <td>Very nice breakfast HH, easy to make and yummy...</td>\n",
       "    </tr>\n",
       "  </tbody>\n",
       "</table>\n",
       "</div>"
      ],
      "text/plain": [
       "        user_id  recipe_id       date  rating  \\\n",
       "370476    21752      57993 2003-05-01       5   \n",
       "624300   431813     142201 2007-09-16       5   \n",
       "187037   400708     252013 2008-01-10       4   \n",
       "\n",
       "                                                   review  \n",
       "370476  Last week whole sides of frozen salmon fillet ...  \n",
       "624300  So simple and so tasty!  I used a yellow capsi...  \n",
       "187037  Very nice breakfast HH, easy to make and yummy...  "
      ]
     },
     "execution_count": 2,
     "metadata": {},
     "output_type": "execute_result"
    }
   ],
   "source": [
    "reviews = pd.read_csv('data/reviews_sample.csv', index_col=0, parse_dates = ['date'])\n",
    "recipes = pd.read_csv('data/recipes_sample.csv', parse_dates = ['submitted']).drop(['contributor_id', 'n_steps'], axis=1)\n",
    "reviews[:3]"
   ]
  },
  {
   "cell_type": "code",
   "execution_count": 3,
   "metadata": {
    "colab": {
     "base_uri": "https://localhost:8080/",
     "height": 143
    },
    "id": "R-oQ1UgRxWdk",
    "outputId": "9852ad68-a13f-4eb5-dee3-2e9c8b4fb84a"
   },
   "outputs": [
    {
     "data": {
      "text/html": [
       "<div>\n",
       "<style scoped>\n",
       "    .dataframe tbody tr th:only-of-type {\n",
       "        vertical-align: middle;\n",
       "    }\n",
       "\n",
       "    .dataframe tbody tr th {\n",
       "        vertical-align: top;\n",
       "    }\n",
       "\n",
       "    .dataframe thead th {\n",
       "        text-align: right;\n",
       "    }\n",
       "</style>\n",
       "<table border=\"1\" class=\"dataframe\">\n",
       "  <thead>\n",
       "    <tr style=\"text-align: right;\">\n",
       "      <th></th>\n",
       "      <th>name</th>\n",
       "      <th>id</th>\n",
       "      <th>minutes</th>\n",
       "      <th>submitted</th>\n",
       "      <th>description</th>\n",
       "      <th>n_ingredients</th>\n",
       "    </tr>\n",
       "  </thead>\n",
       "  <tbody>\n",
       "    <tr>\n",
       "      <th>0</th>\n",
       "      <td>george s at the cove  black bean soup</td>\n",
       "      <td>44123</td>\n",
       "      <td>90</td>\n",
       "      <td>2002-10-25</td>\n",
       "      <td>an original recipe created by chef scott meska...</td>\n",
       "      <td>18.0</td>\n",
       "    </tr>\n",
       "    <tr>\n",
       "      <th>1</th>\n",
       "      <td>healthy for them  yogurt popsicles</td>\n",
       "      <td>67664</td>\n",
       "      <td>10</td>\n",
       "      <td>2003-07-26</td>\n",
       "      <td>my children and their friends ask for my homem...</td>\n",
       "      <td>NaN</td>\n",
       "    </tr>\n",
       "    <tr>\n",
       "      <th>2</th>\n",
       "      <td>i can t believe it s spinach</td>\n",
       "      <td>38798</td>\n",
       "      <td>30</td>\n",
       "      <td>2002-08-29</td>\n",
       "      <td>these were so go, it surprised even me.</td>\n",
       "      <td>8.0</td>\n",
       "    </tr>\n",
       "  </tbody>\n",
       "</table>\n",
       "</div>"
      ],
      "text/plain": [
       "                                    name     id  minutes  submitted  \\\n",
       "0  george s at the cove  black bean soup  44123       90 2002-10-25   \n",
       "1     healthy for them  yogurt popsicles  67664       10 2003-07-26   \n",
       "2           i can t believe it s spinach  38798       30 2002-08-29   \n",
       "\n",
       "                                         description  n_ingredients  \n",
       "0  an original recipe created by chef scott meska...           18.0  \n",
       "1  my children and their friends ask for my homem...            NaN  \n",
       "2            these were so go, it surprised even me.            8.0  "
      ]
     },
     "execution_count": 3,
     "metadata": {},
     "output_type": "execute_result"
    }
   ],
   "source": [
    "recipes[:3]"
   ]
  },
  {
   "cell_type": "markdown",
   "metadata": {
    "id": "gdLOa6R7h9Qp"
   },
   "source": [
    "2. Случайным образом выберите 5% строк из каждой таблицы и сохраните две таблицы на разные листы в один файл `recipes.xlsx`. Дайте листам названия \"Рецепты\" и \"Отзывы\", соответствующие содержанию таблиц. "
   ]
  },
  {
   "cell_type": "code",
   "execution_count": null,
   "metadata": {
    "id": "k-Wmi6Xn0OM3"
   },
   "outputs": [],
   "source": [
    "reviews_5, recipes_5 = reviews.sample(frac=0.05), recipes.sample(frac=0.05)\n",
    "\n",
    "with pd.ExcelWriter('data/recipes.xlsx') as writer:\n",
    "    recipes_5.to_excel(writer, sheet_name=\"Рецепты\")\n",
    "    reviews_5.to_excel(writer, sheet_name=\"Отзывы\")"
   ]
  },
  {
   "cell_type": "markdown",
   "metadata": {
    "id": "nyzwOEM9h9Qp"
   },
   "source": [
    "3. Используя `xlwings`, добавьте на лист `Рецепты` столбец `seconds_assign`, показывающий время выполнения рецепта в секундах. Выполните задание при помощи присваивания массива значений диапазону ячеек."
   ]
  },
  {
   "cell_type": "code",
   "execution_count": 2,
   "metadata": {
    "colab": {
     "base_uri": "https://localhost:8080/"
    },
    "id": "E_ieBr8z1tqN",
    "outputId": "57552f8a-9d23-4c47-c2f7-725329d42783"
   },
   "outputs": [],
   "source": [
    "import xlwings as xw"
   ]
  },
  {
   "cell_type": "code",
   "execution_count": 6,
   "metadata": {
    "colab": {
     "base_uri": "https://localhost:8080/",
     "height": 380
    },
    "id": "CtL3NDlD2tEv",
    "outputId": "1b08b335-fbf7-45f5-82e1-fb62dd6312d7"
   },
   "outputs": [],
   "source": [
    "wb = xw.Book('data/recipes.xlsx')\n",
    "\n",
    "sheet = wb.sheets['Рецепты']\n",
    "sheet[\"H1\"].value = 'seconds_assign'\n",
    "sheet[\"H2:H1501\"].options(index=False, header=False).value = recipes_5['minutes'] * 60\n",
    "\n",
    "wb.save()\n",
    "wb.close()"
   ]
  },
  {
   "cell_type": "markdown",
   "metadata": {
    "id": "RO32BSFGh9Qp"
   },
   "source": [
    "4. Используя `xlwings`, добавьте на лист `Рецепты` столбец `seconds_formula`, показывающий время выполнения рецепта в секундах. Выполните задание при помощи формул Excel."
   ]
  },
  {
   "cell_type": "code",
   "execution_count": 7,
   "metadata": {},
   "outputs": [],
   "source": [
    "wb = xw.Book('data/recipes.xlsx')\n",
    "sht = wb.sheets['Рецепты']\n",
    "\n",
    "formula = '=D2*60'\n",
    "\n",
    "sht['I1'].value = 'seconds_formula'\n",
    "sht['I2'].value = formula\n",
    "sht['I2:I1501'].options(index=False, header=False).value = formula\n",
    "\n",
    "wb.save()\n",
    "wb.close()"
   ]
  },
  {
   "cell_type": "markdown",
   "metadata": {
    "id": "qUK1qkqmh9Qq"
   },
   "source": [
    "5. Сделайте названия всех добавленных столбцов полужирными и выровняйте по центру ячейки."
   ]
  },
  {
   "cell_type": "code",
   "execution_count": 16,
   "metadata": {},
   "outputs": [],
   "source": [
    "wb = xw.Book('data/recipes.xlsx')\n",
    "sht = wb.sheets['Рецепты']\n",
    "\n",
    "sht.range('H1').api.Font.Bold = True\n",
    "sht.range('I1').api.Font.Bold = True\n",
    "\n",
    "sht.range('H1').api.HorizontalAlignment = xw.constants.HAlign.xlHAlignCenter\n",
    "sht.range('I1').api.HorizontalAlignment = xw.constants.HAlign.xlHAlignCenter\n",
    "\n",
    "wb.save()\n",
    "wb.close()"
   ]
  },
  {
   "cell_type": "markdown",
   "metadata": {
    "id": "-Kh2Ezm0h9Qq"
   },
   "source": [
    "6. Раскрасьте ячейки столбца `minutes` в соответствии со следующим правилом: если рецепт выполняется быстрее 5 минут, то цвет - зеленый; от 5 до 10 минут - жёлтый; и больше 10 - красный."
   ]
  },
  {
   "cell_type": "code",
   "execution_count": 17,
   "metadata": {},
   "outputs": [],
   "source": [
    "wb = xw.Book('data/recipes.xlsx')\n",
    "sht = wb.sheets['Рецепты']\n",
    "\n",
    "for row in sht.range('D2:D1501'):\n",
    "    cell_range = sht.range('D' + str(row.row))\n",
    "    minutes = cell_range.value\n",
    "        \n",
    "    if minutes < 5:\n",
    "        cell_range.colorindex = 4 # green\n",
    "    elif minutes < 10:\n",
    "        cell_range.colorindex = 6 # yellow\n",
    "    else:\n",
    "        cell_range.colorindex = 3 # red\n",
    "\n",
    "wb.save()\n",
    "wb.close()"
   ]
  },
  {
   "cell_type": "markdown",
   "metadata": {
    "id": "0KkbJNjYh9Qq"
   },
   "source": [
    "7. Добавьте на лист `Рецепты`  столбец `n_reviews`, содержащий кол-во отзывов для этого рецепта. Выполните задание при помощи формул Excel."
   ]
  },
  {
   "cell_type": "code",
   "execution_count": null,
   "metadata": {},
   "outputs": [],
   "source": [
    "wb = xw.Book('data/recipes.xlsx')\n",
    "recipes_sht = wb.sheets['Рецепты']\n",
    "\n",
    "recipe_ids = recipes_sht.range('C2:C1501').value\n",
    "\n",
    "recipes_sht.range('J1').value = 'n_reviews'\n",
    "\n",
    "# заполняем столбец n_reviews с помощью формул Excel\n",
    "for i, recipe_id in enumerate(recipe_ids):\n",
    "    formula = f'=COUNTIF(Отзывы!$C:$C, C{i+2})'\n",
    "    recipes_sht.range(f'J{i+2}').formula = formula\n",
    "\n",
    "# сохраняем и закрываем файл\n",
    "wb.save()\n",
    "wb.close()"
   ]
  },
  {
   "cell_type": "markdown",
   "metadata": {
    "id": "rya0XgvNh9Qq"
   },
   "source": [
    "## Лабораторная работа 7.2"
   ]
  },
  {
   "cell_type": "markdown",
   "metadata": {
    "id": "bXmXjKuih9Qq"
   },
   "source": [
    "8. Напишите функцию `validate()`, которая проверяет соответствие всех строк из листа `Отзывы` следующим правилам:\n",
    "    * Рейтинг - это число от 0 до 5 включительно\n",
    "    * Соответствующий рецепт имеется на листе `Рецепты`\n",
    "    \n",
    "В случае несоответствия этим правилам, выделите строку красным цветом"
   ]
  },
  {
   "cell_type": "code",
   "execution_count": null,
   "metadata": {},
   "outputs": [],
   "source": [
    "def validate():\n",
    "    wb = xw.Book('data/recipes.xlsx')\n",
    "    recipes_sht = wb.sheets['Рецепты']\n",
    "    reviews_sht = wb.sheets['Отзывы']\n",
    "\n",
    "    recipe_ratings = {int(id_cell.value): float(rating_cell.value) for id_cell, rating_cell in zip(recipes_sht.range('C2:C1501'), recipes_sht.range('E2:E100'))}\n",
    "    recipe_ids = [int(id_cell.value) for id_cell in recipes_sht.range('C2:C1501').cells if id_cell.value]\n",
    "\n",
    "    for row in reviews_sht.range('C2').expand('down').rows:\n",
    "        rating = float(row.cells[4].value)\n",
    "\n",
    "        if not 0 <= rating <= 5:\n",
    "            row.color = (255, 0, 0)\n",
    "\n",
    "        recipe_id = int(row.cells[0].value)\n",
    "        if recipe_id not in recipe_ids:\n",
    "            row.color = (255, 0, 0)\n",
    "    print(rating)\n",
    "\n",
    "validate()"
   ]
  },
  {
   "cell_type": "markdown",
   "metadata": {
    "id": "AyLnySsqh9Qq"
   },
   "source": [
    "9. В файле `recipes_model.csv` находится модель данных предметной области \"рецепты\". При помощи пакета `csv` считайте эти данные. При помощи пакета `xlwings` запишите данные на лист `Модель` книги `recipes_model.xlsx`, начиная с ячейки `A2`, не используя циклы. Сделайте скриншот текущего состояния листа и прикрепите в ячейку ноутбука. "
   ]
  },
  {
   "cell_type": "code",
   "execution_count": 2,
   "metadata": {},
   "outputs": [
    {
     "ename": "com_error",
     "evalue": "(-2147352567, 'Ошибка.', (0, 'Microsoft Excel', 'Эта команда недоступна, так как истек срок действия лицензии на данное приложение.', 'xlmain11.chm', 0, -2146827284), None)",
     "output_type": "error",
     "traceback": [
      "\u001b[1;31m---------------------------------------------------------------------------\u001b[0m",
      "\u001b[1;31mcom_error\u001b[0m                                 Traceback (most recent call last)",
      "Input \u001b[1;32mIn [2]\u001b[0m, in \u001b[0;36m<cell line: 9>\u001b[1;34m()\u001b[0m\n\u001b[0;32m      6\u001b[0m df \u001b[38;5;241m=\u001b[39m pd\u001b[38;5;241m.\u001b[39mread_csv(\u001b[38;5;124m\"\u001b[39m\u001b[38;5;124mdata/recipes_model.csv\u001b[39m\u001b[38;5;124m\"\u001b[39m)\n\u001b[0;32m      8\u001b[0m \u001b[38;5;66;03m# создаем новый Excel файл и новый лист в этом файле\u001b[39;00m\n\u001b[1;32m----> 9\u001b[0m wb \u001b[38;5;241m=\u001b[39m \u001b[43mxw\u001b[49m\u001b[38;5;241;43m.\u001b[39;49m\u001b[43mBook\u001b[49m\u001b[43m(\u001b[49m\u001b[43m)\u001b[49m\n\u001b[0;32m     10\u001b[0m ws \u001b[38;5;241m=\u001b[39m wb\u001b[38;5;241m.\u001b[39msheets\u001b[38;5;241m.\u001b[39madd(\u001b[38;5;124m'\u001b[39m\u001b[38;5;124mМодель\u001b[39m\u001b[38;5;124m'\u001b[39m)\n\u001b[0;32m     12\u001b[0m \u001b[38;5;66;03m# записываем данные начиная с ячейки A2\u001b[39;00m\n",
      "File \u001b[1;32mD:\\D\\anaconda\\lib\\site-packages\\xlwings\\main.py:692\u001b[0m, in \u001b[0;36mBook.__init__\u001b[1;34m(self, fullname, update_links, read_only, format, password, write_res_password, ignore_read_only_recommended, origin, delimiter, editable, notify, converter, add_to_mru, local, corrupt_load, impl)\u001b[0m\n\u001b[0;32m    689\u001b[0m \u001b[38;5;28;01melse\u001b[39;00m:\n\u001b[0;32m    690\u001b[0m     \u001b[38;5;66;03m# Open Excel if necessary and create a new workbook\u001b[39;00m\n\u001b[0;32m    691\u001b[0m     \u001b[38;5;28;01mif\u001b[39;00m apps\u001b[38;5;241m.\u001b[39mactive:\n\u001b[1;32m--> 692\u001b[0m         impl \u001b[38;5;241m=\u001b[39m \u001b[43mapps\u001b[49m\u001b[38;5;241;43m.\u001b[39;49m\u001b[43mactive\u001b[49m\u001b[38;5;241;43m.\u001b[39;49m\u001b[43mbooks\u001b[49m\u001b[38;5;241;43m.\u001b[39;49m\u001b[43madd\u001b[49m\u001b[43m(\u001b[49m\u001b[43m)\u001b[49m\u001b[38;5;241m.\u001b[39mimpl\n\u001b[0;32m    693\u001b[0m     \u001b[38;5;28;01melse\u001b[39;00m:\n\u001b[0;32m    694\u001b[0m         app \u001b[38;5;241m=\u001b[39m App()\n",
      "File \u001b[1;32mD:\\D\\anaconda\\lib\\site-packages\\xlwings\\main.py:4248\u001b[0m, in \u001b[0;36mBooks.add\u001b[1;34m(self)\u001b[0m\n\u001b[0;32m   4244\u001b[0m \u001b[38;5;28;01mdef\u001b[39;00m \u001b[38;5;21madd\u001b[39m(\u001b[38;5;28mself\u001b[39m):\n\u001b[0;32m   4245\u001b[0m     \u001b[38;5;124;03m\"\"\"\u001b[39;00m\n\u001b[0;32m   4246\u001b[0m \u001b[38;5;124;03m    Creates a new Book. The new Book becomes the active Book. Returns a Book object.\u001b[39;00m\n\u001b[0;32m   4247\u001b[0m \u001b[38;5;124;03m    \"\"\"\u001b[39;00m\n\u001b[1;32m-> 4248\u001b[0m     \u001b[38;5;28;01mreturn\u001b[39;00m Book(impl\u001b[38;5;241m=\u001b[39m\u001b[38;5;28;43mself\u001b[39;49m\u001b[38;5;241;43m.\u001b[39;49m\u001b[43mimpl\u001b[49m\u001b[38;5;241;43m.\u001b[39;49m\u001b[43madd\u001b[49m\u001b[43m(\u001b[49m\u001b[43m)\u001b[49m)\n",
      "File \u001b[1;32mD:\\D\\anaconda\\lib\\site-packages\\xlwings\\_xlwindows.py:504\u001b[0m, in \u001b[0;36mBooks.add\u001b[1;34m(self)\u001b[0m\n\u001b[0;32m    503\u001b[0m \u001b[38;5;28;01mdef\u001b[39;00m \u001b[38;5;21madd\u001b[39m(\u001b[38;5;28mself\u001b[39m):\n\u001b[1;32m--> 504\u001b[0m     \u001b[38;5;28;01mreturn\u001b[39;00m Book(xl\u001b[38;5;241m=\u001b[39m\u001b[38;5;28;43mself\u001b[39;49m\u001b[38;5;241;43m.\u001b[39;49m\u001b[43mxl\u001b[49m\u001b[38;5;241;43m.\u001b[39;49m\u001b[43mAdd\u001b[49m\u001b[43m(\u001b[49m\u001b[43m)\u001b[49m)\n",
      "File \u001b[1;32mD:\\D\\anaconda\\lib\\site-packages\\xlwings\\_xlwindows.py:70\u001b[0m, in \u001b[0;36mCOMRetryMethodWrapper.__call__\u001b[1;34m(self, *args, **kwargs)\u001b[0m\n\u001b[0;32m     68\u001b[0m \u001b[38;5;28;01mwhile\u001b[39;00m \u001b[38;5;28;01mTrue\u001b[39;00m:\n\u001b[0;32m     69\u001b[0m     \u001b[38;5;28;01mtry\u001b[39;00m:\n\u001b[1;32m---> 70\u001b[0m         v \u001b[38;5;241m=\u001b[39m \u001b[38;5;28mself\u001b[39m\u001b[38;5;241m.\u001b[39m__method(\u001b[38;5;241m*\u001b[39margs, \u001b[38;5;241m*\u001b[39m\u001b[38;5;241m*\u001b[39mkwargs)\n\u001b[0;32m     71\u001b[0m         \u001b[38;5;28;01mif\u001b[39;00m \u001b[38;5;28misinstance\u001b[39m(v, (CDispatch, CoClassBaseClass, DispatchBaseClass)):\n\u001b[0;32m     72\u001b[0m             \u001b[38;5;28;01mreturn\u001b[39;00m COMRetryObjectWrapper(v)\n",
      "File \u001b[1;32mC:\\Users\\HAPPYT~1\\AppData\\Local\\Temp\\gen_py\\3.9\\00020813-0000-0000-C000-000000000046x0x1x9.py:41152\u001b[0m, in \u001b[0;36mWorkbooks.Add\u001b[1;34m(self, Template)\u001b[0m\n\u001b[0;32m  41151\u001b[0m \u001b[38;5;28;01mdef\u001b[39;00m \u001b[38;5;21mAdd\u001b[39m(\u001b[38;5;28mself\u001b[39m, Template\u001b[38;5;241m=\u001b[39mdefaultNamedOptArg):\n\u001b[1;32m> 41152\u001b[0m \tret \u001b[38;5;241m=\u001b[39m \u001b[38;5;28;43mself\u001b[39;49m\u001b[38;5;241;43m.\u001b[39;49m\u001b[43m_oleobj_\u001b[49m\u001b[38;5;241;43m.\u001b[39;49m\u001b[43mInvokeTypes\u001b[49m\u001b[43m(\u001b[49m\u001b[38;5;241;43m181\u001b[39;49m\u001b[43m,\u001b[49m\u001b[43m \u001b[49m\u001b[43mLCID\u001b[49m\u001b[43m,\u001b[49m\u001b[43m \u001b[49m\u001b[38;5;241;43m1\u001b[39;49m\u001b[43m,\u001b[49m\u001b[43m \u001b[49m\u001b[43m(\u001b[49m\u001b[38;5;241;43m13\u001b[39;49m\u001b[43m,\u001b[49m\u001b[43m \u001b[49m\u001b[38;5;241;43m0\u001b[39;49m\u001b[43m)\u001b[49m\u001b[43m,\u001b[49m\u001b[43m \u001b[49m\u001b[43m(\u001b[49m\u001b[43m(\u001b[49m\u001b[38;5;241;43m12\u001b[39;49m\u001b[43m,\u001b[49m\u001b[43m \u001b[49m\u001b[38;5;241;43m17\u001b[39;49m\u001b[43m)\u001b[49m\u001b[43m,\u001b[49m\u001b[43m)\u001b[49m\u001b[43m,\u001b[49m\u001b[43mTemplate\u001b[49m\n\u001b[0;32m  41153\u001b[0m \u001b[43m\t\t\u001b[49m\u001b[43m)\u001b[49m\n\u001b[0;32m  41154\u001b[0m \t\u001b[38;5;28;01mif\u001b[39;00m ret \u001b[38;5;129;01mis\u001b[39;00m \u001b[38;5;129;01mnot\u001b[39;00m \u001b[38;5;28;01mNone\u001b[39;00m:\n\u001b[0;32m  41155\u001b[0m \t\t\u001b[38;5;66;03m# See if this IUnknown is really an IDispatch\u001b[39;00m\n\u001b[0;32m  41156\u001b[0m \t\t\u001b[38;5;28;01mtry\u001b[39;00m:\n",
      "\u001b[1;31mcom_error\u001b[0m: (-2147352567, 'Ошибка.', (0, 'Microsoft Excel', 'Эта команда недоступна, так как истек срок действия лицензии на данное приложение.', 'xlmain11.chm', 0, -2146827284), None)"
     ]
    }
   ],
   "source": [
    "import csv\n",
    "import pandas as pd\n",
    "import xlwings as xw\n",
    "\n",
    "# считываем данные из csv файла и преобразуем их в DataFrame\n",
    "df = pd.read_csv(\"data/recipes_model.csv\")\n",
    "\n",
    "# создаем новый Excel файл и новый лист в этом файле\n",
    "wb = xw.Book()\n",
    "ws = wb.sheets.add('Модель')\n",
    "\n",
    "# записываем данные начиная с ячейки A2\n",
    "cell_range = ws.range('A2').options(index=False, header=False)\n",
    "cell_range.value = df.values.tolist()\n",
    "\n",
    "# сохраняем файл\n",
    "wb.save('data/recipes_model.xlsx')"
   ]
  },
  {
   "cell_type": "markdown",
   "metadata": {
    "id": "w0lKNnpih9Qq"
   },
   "source": [
    "10. При помощи пакета `xlwings` добавьте в столбец J формулу для описания столбца на языке SQL. Формула должна реализовывать следующую логику:\n",
    "\n",
    "    1\\. в начале строки идут значения из столбцов В и C (значение столбца С приведено к верхнему регистру), разделенные пробелом\n",
    "    \n",
    "    2\\. далее идут слова на основе столбца \"Ключ\"\n",
    "        2.1 если в столбце \"Ключ\" указано значение \"PK\", то дальше через пробел идет ключевое слово \"PRIMARY KEY\"\n",
    "        2.2 если в столбце \"Ключ\" указано значение \"FK\", то дальше через пробел идет ключевое слово \"REFERENCES\", затем значения столбцов H и I в формате \"название_таблицы(название_столбца)\"\n",
    "        \n",
    "    3\\. если в столбце \"Обязательно к заполнению\" указано значение \"Y\" и в столбце \"Ключ\" указано не \"PK\", то дальше через пробел идет ключевое слово \"NOT NULL\".\n",
    "\n",
    "Заполните этой формулой необходимое количество строк, используя \"протягивание\". Количество строк для протягивания определите на основе данных.\n",
    "\n",
    "Сделайте скриншот текущего состояния листа и прикрепите в ячейку ноутбука."
   ]
  },
  {
   "cell_type": "code",
   "execution_count": null,
   "metadata": {},
   "outputs": [],
   "source": [
    "wb = xw.Book('data/recipes_model.xlsx')\n",
    "ws = wb.sheets['Модель']\n",
    "\n",
    "last_row = ws.cells.last_cell.row\n",
    "\n",
    "for i in range(2, last_row + 1):\n",
    "    values_b_c = f'{ws.range(f\"B{i}\").value} {ws.range(f\"C{i}\").value.upper()}'\n",
    "    words_k = ws.range(f\"K{i}\").value.split()\n",
    "    if \"PK\" in words_k:\n",
    "        keys = \"PRIMARY KEY\"\n",
    "    elif \"FK\" in words_k:\n",
    "        table_name = ws.range(f\"H{i}\").value\n",
    "        column_name = ws.range(f\"I{i}\").value\n",
    "        keys = f\"REFERENCES {table_name}({column_name})\"\n",
    "    else:\n",
    "        keys = \"\"\n",
    "    is_required = ws.range(f\"L{i}\").value == \"Y\" and \"PK\" not in words_k\n",
    "    not_null = \"NOT NULL\" if is_required else \"\"\n",
    "    formula = f'{values_b_c} {\" \".join(words_k)} {keys} {not_null}'\n",
    "    ws.range(f\"J{i}\").formula = formula\n",
    "\n",
    "wb.save()"
   ]
  },
  {
   "cell_type": "markdown",
   "metadata": {
    "id": "EMoUUnPwh9Qr"
   },
   "source": [
    "11. При помощи пакета `xlwings` измените стилизацию листа `Модель`.\n",
    "* для заголовков добавьте заливку цвета `00ccff`\n",
    "* примените автоподбор ширины столбца;\n",
    "* сделайте шрифт заголовков полужирным;\n",
    "* добавьте таблице автофильтр.\n",
    "\n",
    "Сделайте скриншот текущего состояния листа и прикрепите в ячейку ноутбука."
   ]
  },
  {
   "cell_type": "code",
   "execution_count": null,
   "metadata": {},
   "outputs": [],
   "source": [
    "wb = xw.Book('recipes_model.xlsx')\n",
    "ws = wb.sheets['Модель']\n",
    "\n",
    "header_format = ws.range(\"A2\").expand(\"table\").rows[0].api.Interior\n",
    "header_format.Color = 0x00ccff\n",
    "\n",
    "ws.autofit()\n",
    "\n",
    "header_font = ws.range(\"A2\").expand(\"table\").rows[0].api.Font\n",
    "header_font.Bold = True\n",
    "\n",
    "ws.autofilter.apply()\n",
    "\n",
    "wb.save()"
   ]
  }
 ],
 "metadata": {
  "colab": {
   "provenance": []
  },
  "kernelspec": {
   "display_name": "Python 3 (ipykernel)",
   "language": "python",
   "name": "python3"
  },
  "language_info": {
   "codemirror_mode": {
    "name": "ipython",
    "version": 3
   },
   "file_extension": ".py",
   "mimetype": "text/x-python",
   "name": "python",
   "nbconvert_exporter": "python",
   "pygments_lexer": "ipython3",
   "version": "3.9.12"
  }
 },
 "nbformat": 4,
 "nbformat_minor": 1
}
